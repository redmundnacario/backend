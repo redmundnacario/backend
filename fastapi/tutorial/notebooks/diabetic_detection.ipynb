{
 "cells": [
  {
   "cell_type": "code",
   "execution_count": 1,
   "metadata": {
    "colab": {
     "base_uri": "https://localhost:8080/"
    },
    "executionInfo": {
     "elapsed": 1803,
     "status": "ok",
     "timestamp": 1611083648278,
     "user": {
      "displayName": "Redmund Nacario",
      "photoUrl": "https://lh3.googleusercontent.com/a-/AOh14GjO6rU8Mlt3cfiTXVRe9078RthUuiBxZBXqWWd6lw=s64",
      "userId": "06664131145401072128"
     },
     "user_tz": -480
    },
    "id": "vKeugYX67bkv",
    "outputId": "b27cee77-93a6-429d-ff98-cfd1cb277881"
   },
   "outputs": [],
   "source": [
    "# from google.colab import drive\n",
    "# drive.mount('/content/gdrive')\n",
    "\n",
    "# import os\n"
   ]
  },
  {
   "cell_type": "code",
   "execution_count": 2,
   "metadata": {
    "executionInfo": {
     "elapsed": 967,
     "status": "ok",
     "timestamp": 1611083649113,
     "user": {
      "displayName": "Redmund Nacario",
      "photoUrl": "https://lh3.googleusercontent.com/a-/AOh14GjO6rU8Mlt3cfiTXVRe9078RthUuiBxZBXqWWd6lw=s64",
      "userId": "06664131145401072128"
     },
     "user_tz": -480
    },
    "id": "Jc3Rr3-G7mol"
   },
   "outputs": [],
   "source": [
    "# file_path = \"/content/gdrive/MyDrive/Colab Notebooks/deplying_models/diabetic_detection\""
   ]
  },
  {
   "cell_type": "code",
   "execution_count": 3,
   "metadata": {
    "executionInfo": {
     "elapsed": 1110,
     "status": "ok",
     "timestamp": 1611083650929,
     "user": {
      "displayName": "Redmund Nacario",
      "photoUrl": "https://lh3.googleusercontent.com/a-/AOh14GjO6rU8Mlt3cfiTXVRe9078RthUuiBxZBXqWWd6lw=s64",
      "userId": "06664131145401072128"
     },
     "user_tz": -480
    },
    "id": "MS8LFHBZ77dy"
   },
   "outputs": [],
   "source": [
    "# os.chdir(file_path)"
   ]
  },
  {
   "cell_type": "markdown",
   "metadata": {
    "id": "UYMA1H4L7c5O"
   },
   "source": []
  },
  {
   "cell_type": "code",
   "execution_count": 4,
   "metadata": {
    "colab": {
     "base_uri": "https://localhost:8080/"
    },
    "executionInfo": {
     "elapsed": 3337,
     "status": "ok",
     "timestamp": 1611083654807,
     "user": {
      "displayName": "Redmund Nacario",
      "photoUrl": "https://lh3.googleusercontent.com/a-/AOh14GjO6rU8Mlt3cfiTXVRe9078RthUuiBxZBXqWWd6lw=s64",
      "userId": "06664131145401072128"
     },
     "user_tz": -480
    },
    "id": "n0ZTBsUz9Oaf",
    "outputId": "29c67fde-bb5b-4776-fb08-76747715377e"
   },
   "outputs": [],
   "source": [
    "# pip install scikit-learn==0.21.3"
   ]
  },
  {
   "cell_type": "code",
   "execution_count": 5,
   "metadata": {
    "executionInfo": {
     "elapsed": 1031,
     "status": "ok",
     "timestamp": 1611083656746,
     "user": {
      "displayName": "Redmund Nacario",
      "photoUrl": "https://lh3.googleusercontent.com/a-/AOh14GjO6rU8Mlt3cfiTXVRe9078RthUuiBxZBXqWWd6lw=s64",
      "userId": "06664131145401072128"
     },
     "user_tz": -480
    },
    "id": "QWtHBV2A3z5M"
   },
   "outputs": [],
   "source": [
    "import pickle\n",
    "import pandas as pd\n"
   ]
  },
  {
   "cell_type": "code",
   "execution_count": 6,
   "metadata": {
    "executionInfo": {
     "elapsed": 982,
     "status": "ok",
     "timestamp": 1611085797976,
     "user": {
      "displayName": "Redmund Nacario",
      "photoUrl": "https://lh3.googleusercontent.com/a-/AOh14GjO6rU8Mlt3cfiTXVRe9078RthUuiBxZBXqWWd6lw=s64",
      "userId": "06664131145401072128"
     },
     "user_tz": -480
    },
    "id": "Ou08mjw74Tnw"
   },
   "outputs": [],
   "source": [
    "def model_predict(NumTimesPrg, PlGlcConc, BloodP, SkinThick, TwoHourSerIns, BMI, DiPedFunc, Age):\n",
    "    # file paths/name\n",
    "    filename_model = 'svc_model_diabetic_detection.sav'\n",
    "    filename_scaler = 'minmax_scaler_diabetic_detection.sav'\n",
    "\n",
    "    #  load the scaler and model from disk\n",
    "    loaded_scaler = pickle.load(open(filename_scaler, 'rb'))\n",
    "    loaded_model = pickle.load(open(filename_model, 'rb'))\n",
    "\n",
    "    # params to array\n",
    "    df = [[NumTimesPrg, PlGlcConc, BloodP, SkinThick, TwoHourSerIns, BMI, DiPedFunc, Age]]\n",
    "    print(df)\n",
    "    # scale\n",
    "    new_df_scaled = loaded_scaler.transform(df)\n",
    "    print(new_df_scaled)\n",
    "    # predict\n",
    "    result = loaded_model.predict(new_df_scaled)[0]\n",
    "\n",
    "    return result"
   ]
  },
  {
   "cell_type": "code",
   "execution_count": 7,
   "metadata": {
    "colab": {
     "base_uri": "https://localhost:8080/"
    },
    "executionInfo": {
     "elapsed": 839,
     "status": "ok",
     "timestamp": 1611085801892,
     "user": {
      "displayName": "Redmund Nacario",
      "photoUrl": "https://lh3.googleusercontent.com/a-/AOh14GjO6rU8Mlt3cfiTXVRe9078RthUuiBxZBXqWWd6lw=s64",
      "userId": "06664131145401072128"
     },
     "user_tz": -480
    },
    "id": "RV1W_LnxEct2",
    "outputId": "8941df66-9a95-4bd9-dfaf-4e0ec8ceac50"
   },
   "outputs": [
    {
     "name": "stdout",
     "output_type": "stream",
     "text": [
      "[[6, 168, 72, 35, 0, 43.6, 0.627, 65]]\n",
      "[[0.35294118 0.84422111 0.59016393 0.55555556 0.         0.64977645\n",
      "  0.23441503 0.73333333]]\n"
     ]
    },
    {
     "data": {
      "text/plain": [
       "1"
      ]
     },
     "execution_count": 7,
     "metadata": {},
     "output_type": "execute_result"
    }
   ],
   "source": [
    "model_predict(6, 168, 72, 35, 0, 43.6, 0.627, 65)"
   ]
  },
  {
   "cell_type": "code",
   "execution_count": 8,
   "metadata": {
    "executionInfo": {
     "elapsed": 671,
     "status": "ok",
     "timestamp": 1611086048223,
     "user": {
      "displayName": "Redmund Nacario",
      "photoUrl": "https://lh3.googleusercontent.com/a-/AOh14GjO6rU8Mlt3cfiTXVRe9078RthUuiBxZBXqWWd6lw=s64",
      "userId": "06664131145401072128"
     },
     "user_tz": -480
    },
    "id": "fAjStC1s93V0"
   },
   "outputs": [],
   "source": [
    "# Sample Query Parameters\n",
    "# \"NumTimesPrg\", \"PlGlcConc\", \"BloodP\", \"SkinThick\", \"TwoHourSerIns\", \"BMI\", \"DiPedFunc\", \"Age\", \"HasDiabetes\"\n",
    "q_params = f\"?NumTimesPrg={6}&PlGlcConc={168}&BloodP={72}&SkinThick={35}&TwoHourSerIns={0}&BMI={43.6}&DiPedFunc={0.627}&Age={65}\""
   ]
  },
  {
   "cell_type": "code",
   "execution_count": 9,
   "metadata": {
    "colab": {
     "base_uri": "https://localhost:8080/",
     "height": 35
    },
    "executionInfo": {
     "elapsed": 664,
     "status": "ok",
     "timestamp": 1611086048224,
     "user": {
      "displayName": "Redmund Nacario",
      "photoUrl": "https://lh3.googleusercontent.com/a-/AOh14GjO6rU8Mlt3cfiTXVRe9078RthUuiBxZBXqWWd6lw=s64",
      "userId": "06664131145401072128"
     },
     "user_tz": -480
    },
    "id": "lYC0xlGJ_JJo",
    "outputId": "276de839-e25f-4776-dbff-7518323e9d05"
   },
   "outputs": [
    {
     "data": {
      "text/plain": [
       "'?NumTimesPrg=6&PlGlcConc=168&BloodP=72&SkinThick=35&TwoHourSerIns=0&BMI=43.6&DiPedFunc=0.627&Age=65'"
      ]
     },
     "execution_count": 9,
     "metadata": {},
     "output_type": "execute_result"
    }
   ],
   "source": [
    "q_params"
   ]
  },
  {
   "cell_type": "code",
   "execution_count": 10,
   "metadata": {
    "colab": {
     "base_uri": "https://localhost:8080/"
    },
    "executionInfo": {
     "elapsed": 6141,
     "status": "ok",
     "timestamp": 1611084695917,
     "user": {
      "displayName": "Redmund Nacario",
      "photoUrl": "https://lh3.googleusercontent.com/a-/AOh14GjO6rU8Mlt3cfiTXVRe9078RthUuiBxZBXqWWd6lw=s64",
      "userId": "06664131145401072128"
     },
     "user_tz": -480
    },
    "id": "u-3lkPXEAKM3",
    "outputId": "85b3b516-f60c-4863-e470-608725b97a6c"
   },
   "outputs": [],
   "source": [
    "# # fastapi and uvicorn - creating api and server\n",
    "# !pip install fastapi uvicorn\n",
    "\n",
    "# # ngrok - providing public urls for testing our api\n",
    "# !pip install nest-asyncio pyngrok "
   ]
  },
  {
   "cell_type": "code",
   "execution_count": 11,
   "metadata": {
    "executionInfo": {
     "elapsed": 777,
     "status": "ok",
     "timestamp": 1611086060172,
     "user": {
      "displayName": "Redmund Nacario",
      "photoUrl": "https://lh3.googleusercontent.com/a-/AOh14GjO6rU8Mlt3cfiTXVRe9078RthUuiBxZBXqWWd6lw=s64",
      "userId": "06664131145401072128"
     },
     "user_tz": -480
    },
    "id": "DgJS30rXAWNI"
   },
   "outputs": [],
   "source": [
    "from fastapi import FastAPI\n",
    "from fastapi.middleware.cors import CORSMiddleware\n",
    "\n",
    "\n",
    "app = FastAPI()\n",
    "\n",
    "app.add_middleware(\n",
    "    CORSMiddleware,\n",
    "    allow_origins=['*'],\n",
    "    allow_credentials=True,\n",
    "    allow_methods=['*'],\n",
    "    allow_headers=['*'],\n",
    ")\n",
    "\n",
    "# file paths/name\n",
    "filename_model = 'svc_model_diabetic_detection.sav'\n",
    "filename_scaler = 'minmax_scaler_diabetic_detection.sav'\n",
    "\n",
    "#  load the scaler and model from disk\n",
    "loaded_scaler = pickle.load(open(filename_scaler, 'rb'))\n",
    "loaded_model = pickle.load(open(filename_model, 'rb'))\n",
    "\n",
    "\n",
    "@app.get('/params/')\n",
    "def mode_predict(NumTimesPrg : int, PlGlcConc : int, BloodP : int, SkinThick : int, TwoHourSerIns : int, BMI : float, DiPedFunc : float, Age : int):\n",
    "\n",
    "    # params to array\n",
    "    df = [[NumTimesPrg, PlGlcConc, BloodP, SkinThick, TwoHourSerIns, BMI, DiPedFunc, Age]]\n",
    "   \n",
    "    # scale\n",
    "    new_df_scaled = loaded_scaler.transform(df)\n",
    "    \n",
    "    # predict\n",
    "    result = loaded_model.predict(new_df_scaled)[0]\n",
    "\n",
    "    return {\"result\": str(result)}\n",
    "    # return NumTimesPrg, PlGlcConc, BloodP, SkinThick, TwoHourSerIns, BMI, DiPedFunc, Age"
   ]
  },
  {
   "cell_type": "code",
   "execution_count": 12,
   "metadata": {
    "colab": {
     "base_uri": "https://localhost:8080/"
    },
    "id": "eInoJ_vQ6CTi",
    "outputId": "2196d96c-1eaf-4bc6-803c-049acbe3d444"
   },
   "outputs": [
    {
     "name": "stderr",
     "output_type": "stream",
     "text": [
      "INFO:     Started server process [48870]\n",
      "INFO:     Waiting for application startup.\n",
      "INFO:     Application startup complete.\n",
      "ERROR:    [Errno 13] error while attempting to bind on address ('127.0.0.1', 80): permission denied\n",
      "INFO:     Waiting for application shutdown.\n",
      "INFO:     Application shutdown complete.\n"
     ]
    },
    {
     "name": "stdout",
     "output_type": "stream",
     "text": [
      "Public URL: NgrokTunnel: \"http://361390c3a4b7.ngrok.io\" -> \"http://localhost:80\"\n",
      "Sample URL w/ input: http://361390c3a4b7.ngrok.io/params/?NumTimesPrg=6&PlGlcConc=168&BloodP=72&SkinThick=35&TwoHourSerIns=0&BMI=43.6&DiPedFunc=0.627&Age=65\n"
     ]
    },
    {
     "ename": "SystemExit",
     "evalue": "1",
     "output_type": "error",
     "traceback": [
      "An exception has occurred, use %tb to see the full traceback.\n",
      "\u001b[0;31mSystemExit\u001b[0m\u001b[0;31m:\u001b[0m 1\n"
     ]
    },
    {
     "name": "stderr",
     "output_type": "stream",
     "text": [
      "/opt/anaconda3/lib/python3.7/site-packages/IPython/core/interactiveshell.py:3334: UserWarning: To exit: use 'exit', 'quit', or Ctrl-D.\n",
      "  warn(\"To exit: use 'exit', 'quit', or Ctrl-D.\", stacklevel=1)\n"
     ]
    }
   ],
   "source": [
    "import nest_asyncio\n",
    "from pyngrok import ngrok\n",
    "import uvicorn\n",
    "\n",
    "url = ngrok.connect(port=80)\n",
    "print('Public URL:', url)\n",
    "print('Sample URL w/ input:', url.data['public_url'] + \"/params/\" + q_params)\n",
    "nest_asyncio.apply()\n",
    "\n",
    "uvicorn.run(app, port=80)"
   ]
  },
  {
   "cell_type": "code",
   "execution_count": null,
   "metadata": {},
   "outputs": [],
   "source": [
    "%tb"
   ]
  },
  {
   "cell_type": "code",
   "execution_count": null,
   "metadata": {},
   "outputs": [
    {
     "name": "stderr",
     "output_type": "stream",
     "text": [
      "t=2021-01-22T05:50:44+0800 lvl=warn msg=\"failed to open private leg\" id=03f5e13c5405 privaddr=localhost:80 err=\"dial tcp [::1]:80: connect: connection refused\"\n",
      "t=2021-01-22T05:50:45+0800 lvl=warn msg=\"failed to open private leg\" id=4282804a5fd7 privaddr=localhost:80 err=\"dial tcp [::1]:80: connect: connection refused\"\n"
     ]
    }
   ],
   "source": [
    "ngrok.get_tunnels()"
   ]
  },
  {
   "cell_type": "code",
   "execution_count": null,
   "metadata": {},
   "outputs": [],
   "source": []
  }
 ],
 "metadata": {
  "colab": {
   "authorship_tag": "ABX9TyOef3oe/tGY3IpikPRLknPP",
   "collapsed_sections": [],
   "mount_file_id": "13zdOIYyQDijB8Sc_ijK0O7yrQbAgl5zE",
   "name": "diabetic_detection.ipynb",
   "provenance": []
  },
  "kernelspec": {
   "display_name": "Python 3",
   "language": "python",
   "name": "python3"
  },
  "language_info": {
   "codemirror_mode": {
    "name": "ipython",
    "version": 3
   },
   "file_extension": ".py",
   "mimetype": "text/x-python",
   "name": "python",
   "nbconvert_exporter": "python",
   "pygments_lexer": "ipython3",
   "version": "3.7.4"
  }
 },
 "nbformat": 4,
 "nbformat_minor": 1
}
