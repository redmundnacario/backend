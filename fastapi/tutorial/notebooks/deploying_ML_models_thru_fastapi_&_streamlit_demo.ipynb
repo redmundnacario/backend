{
  "nbformat": 4,
  "nbformat_minor": 0,
  "metadata": {
    "colab": {
      "name": "deploying_ML_models_thru_fastapi_&_streamlit_demo.ipynb",
      "provenance": [],
      "collapsed_sections": []
    },
    "kernelspec": {
      "name": "python3",
      "display_name": "Python 3"
    }
  },
  "cells": [
    {
      "cell_type": "markdown",
      "metadata": {
        "id": "aEDEgg4NEvhs"
      },
      "source": [
        "# Deploying ML models with FastAPI and Streamlit"
      ]
    },
    {
      "cell_type": "markdown",
      "metadata": {
        "id": "z4rb7vcjghiv"
      },
      "source": [
        "### Setup"
      ]
    },
    {
      "cell_type": "code",
      "metadata": {
        "id": "g98mrxKiE_u4"
      },
      "source": [
        "# Spacy Library and dependencies\n",
        "!pip install spacy\n",
        "!python -m spacy download en_core_web_sm\n",
        "\n",
        "# fastapi and uvicorn - creating api and server\n",
        "!pip install fastapi uvicorn\n",
        "\n",
        "# ngrok - providing public urls for testing our api\n",
        "!pip install nest-asyncio pyngrok \n",
        "\n",
        "# Streamlit - Turn data scripts into sharable web apps in minutes.\n",
        "!pip install streamlit\n",
        "\n",
        "# Install ngrok file locally - will be used later for Streamlit\n",
        "!wget https://bin.equinox.io/c/4VmDzA7iaHb/ngrok-stable-linux-amd64.zip\n",
        "!unzip -qq ngrok-stable-linux-amd64.zip"
      ],
      "execution_count": null,
      "outputs": []
    },
    {
      "cell_type": "markdown",
      "metadata": {
        "id": "yDMAO6pxiR7l"
      },
      "source": [
        "### Import libraries\n"
      ]
    },
    {
      "cell_type": "code",
      "metadata": {
        "id": "EySxIbZliP7j"
      },
      "source": [
        "import spacy"
      ],
      "execution_count": 2,
      "outputs": []
    },
    {
      "cell_type": "markdown",
      "metadata": {
        "id": "rAVJjbpfhzQo"
      },
      "source": [
        "### Let's use a simple entity detector using spacy"
      ]
    },
    {
      "cell_type": "code",
      "metadata": {
        "id": "03jRZBEthzyP"
      },
      "source": [
        "def extract_entities(text):\n",
        "    # Load English tokenizer, tagger, parser, NER and word vectors\n",
        "    nlp = spacy.load(\"en_core_web_sm\")\n",
        "\n",
        "\n",
        "    doc = nlp(text)\n",
        "\n",
        "    # Find named entities, phrases and concepts\n",
        "    entities = []\n",
        "    for entity in doc.ents:\n",
        "        entities.append((entity.text, entity.label_))\n",
        "    return entities"
      ],
      "execution_count": 3,
      "outputs": []
    },
    {
      "cell_type": "code",
      "metadata": {
        "colab": {
          "base_uri": "https://localhost:8080/"
        },
        "id": "c9xyIoqoiCOp",
        "outputId": "f63eb36a-48b4-4282-aefa-2b1acf5b2dfd"
      },
      "source": [
        "# Process whole documents\n",
        "text = (\"When Sebastian Thrun started working on self-driving cars at \"\n",
        "        \"Google in 2007, few people outside of the company took him \"\n",
        "        \"seriously. “I can tell you very senior CEOs of major American \"\n",
        "        \"car companies would shake my hand and turn away because I wasn’t \"\n",
        "        \"worth talking to,” said Thrun, in an interview with Recode earlier \"\n",
        "        \"this week.\")\n",
        "\n",
        "extract_entities(text)"
      ],
      "execution_count": 4,
      "outputs": [
        {
          "output_type": "execute_result",
          "data": {
            "text/plain": [
              "[('Sebastian', 'NORP'),\n",
              " ('Google', 'ORG'),\n",
              " ('2007', 'DATE'),\n",
              " ('American', 'NORP'),\n",
              " ('Recode', 'ORG'),\n",
              " ('earlier this week', 'DATE')]"
            ]
          },
          "metadata": {
            "tags": []
          },
          "execution_count": 4
        }
      ]
    },
    {
      "cell_type": "markdown",
      "metadata": {
        "id": "C-jf7bE9h-x3"
      },
      "source": [
        "### Deploy on FastAPI"
      ]
    },
    {
      "cell_type": "code",
      "metadata": {
        "id": "QaoMDwpEh93b"
      },
      "source": [
        "from fastapi import FastAPI\n",
        "from fastapi.middleware.cors import CORSMiddleware\n",
        "\n",
        "app = FastAPI()\n",
        "\n",
        "app.add_middleware(\n",
        "    CORSMiddleware,\n",
        "    allow_origins=['*'],\n",
        "    allow_credentials=True,\n",
        "    allow_methods=['*'],\n",
        "    allow_headers=['*'],\n",
        ")\n",
        "\n",
        "@app.get('/{text}')\n",
        "async def extract_entities(text):\n",
        "# Load English tokenizer, tagger, parser, NER and word vectors\n",
        "    nlp = spacy.load(\"en_core_web_sm\")\n",
        "\n",
        "\n",
        "    doc = nlp(text)\n",
        "\n",
        "    # Find named entities, phrases and concepts\n",
        "    entities = []\n",
        "    for entity in doc.ents:\n",
        "        entities.append((entity.text, entity.label_))\n",
        "    return entities"
      ],
      "execution_count": 5,
      "outputs": []
    },
    {
      "cell_type": "code",
      "metadata": {
        "colab": {
          "base_uri": "https://localhost:8080/"
        },
        "id": "rRSDD6sLivCy",
        "outputId": "7bd6c5f6-070b-4e7f-f986-b0e95734e68d"
      },
      "source": [
        "# Have to translate spaces to %20 to use as URL argument\n",
        "translated_input = text.replace(\" \", \"%20\")\n",
        "print(translated_input)"
      ],
      "execution_count": 6,
      "outputs": [
        {
          "output_type": "stream",
          "text": [
            "When%20Sebastian%20Thrun%20started%20working%20on%20self-driving%20cars%20at%20Google%20in%202007,%20few%20people%20outside%20of%20the%20company%20took%20him%20seriously.%20“I%20can%20tell%20you%20very%20senior%20CEOs%20of%20major%20American%20car%20companies%20would%20shake%20my%20hand%20and%20turn%20away%20because%20I%20wasn’t%20worth%20talking%20to,”%20said%20Thrun,%20in%20an%20interview%20with%20Recode%20earlier%20this%20week.\n"
          ],
          "name": "stdout"
        }
      ]
    },
    {
      "cell_type": "code",
      "metadata": {
        "colab": {
          "base_uri": "https://localhost:8080/"
        },
        "id": "ng-noJyiiwkH",
        "outputId": "f14812d0-3ba0-45d8-984c-2d9b78f6a6e3"
      },
      "source": [
        "import nest_asyncio\n",
        "from pyngrok import ngrok\n",
        "import uvicorn\n",
        "\n",
        "url = ngrok.connect(port=80)\n",
        "print('Public URL:', url)\n",
        "print('Sample URL w/ input:', url.data['public_url'] + \"/\" + translated_input)\n",
        "nest_asyncio.apply()\n",
        "\n",
        "uvicorn.run(app, port=80)"
      ],
      "execution_count": 7,
      "outputs": [
        {
          "output_type": "stream",
          "text": [
            "INFO:     Started server process [738]\n",
            "INFO:     Waiting for application startup.\n",
            "INFO:     Application startup complete.\n",
            "INFO:     Uvicorn running on http://127.0.0.1:80 (Press CTRL+C to quit)\n"
          ],
          "name": "stderr"
        },
        {
          "output_type": "stream",
          "text": [
            "Public URL: NgrokTunnel: \"http://fa6ad3348c99.ngrok.io\" -> \"http://localhost:80\"\n",
            "Sample URL w/ input: http://fa6ad3348c99.ngrok.io/When%20Sebastian%20Thrun%20started%20working%20on%20self-driving%20cars%20at%20Google%20in%202007,%20few%20people%20outside%20of%20the%20company%20took%20him%20seriously.%20“I%20can%20tell%20you%20very%20senior%20CEOs%20of%20major%20American%20car%20companies%20would%20shake%20my%20hand%20and%20turn%20away%20because%20I%20wasn’t%20worth%20talking%20to,”%20said%20Thrun,%20in%20an%20interview%20with%20Recode%20earlier%20this%20week.\n"
          ],
          "name": "stdout"
        },
        {
          "output_type": "stream",
          "text": [
            "INFO:     Shutting down\n",
            "INFO:     Waiting for application shutdown.\n",
            "INFO:     Application shutdown complete.\n",
            "INFO:     Finished server process [738]\n"
          ],
          "name": "stderr"
        }
      ]
    },
    {
      "cell_type": "code",
      "metadata": {
        "colab": {
          "base_uri": "https://localhost:8080/",
          "height": 86
        },
        "id": "eScxMR3xlAmK",
        "outputId": "d65fe2f8-b3a0-4d0d-da39-97e29d41a2c2"
      },
      "source": [
        "url.data['public_url'] + \"/\" + translated_input"
      ],
      "execution_count": 8,
      "outputs": [
        {
          "output_type": "execute_result",
          "data": {
            "application/vnd.google.colaboratory.intrinsic+json": {
              "type": "string"
            },
            "text/plain": [
              "'http://fa6ad3348c99.ngrok.io/When%20Sebastian%20Thrun%20started%20working%20on%20self-driving%20cars%20at%20Google%20in%202007,%20few%20people%20outside%20of%20the%20company%20took%20him%20seriously.%20“I%20can%20tell%20you%20very%20senior%20CEOs%20of%20major%20American%20car%20companies%20would%20shake%20my%20hand%20and%20turn%20away%20because%20I%20wasn’t%20worth%20talking%20to,”%20said%20Thrun,%20in%20an%20interview%20with%20Recode%20earlier%20this%20week.'"
            ]
          },
          "metadata": {
            "tags": []
          },
          "execution_count": 8
        }
      ]
    },
    {
      "cell_type": "markdown",
      "metadata": {
        "id": "k4qtXdxlszUC"
      },
      "source": [
        "### Deploy on Streamlit"
      ]
    },
    {
      "cell_type": "code",
      "metadata": {
        "id": "OctlZ_6wtg2Z"
      },
      "source": [
        "STREAMLIT_CODE = \"\"\"\n",
        "import streamlit as st\n",
        "import spacy\n",
        "\n",
        "def extract_entities(text):\n",
        "    # Load English tokenizer, tagger, parser, NER and word vectors\n",
        "    nlp = spacy.load(\"en_core_web_sm\")\n",
        "\n",
        "\n",
        "    doc = nlp(text)\n",
        "\n",
        "    # Find named entities, phrases and concepts\n",
        "    entities = []\n",
        "    for entity in doc.ents:\n",
        "        entities.append((entity.text, entity.label_))\n",
        "    return entities\n",
        "\n",
        "user_input = st.text_input(\"Input text\", \"\")\n",
        "\n",
        "st.text(extract_entities(user_input))\n",
        "\"\"\""
      ],
      "execution_count": 9,
      "outputs": []
    },
    {
      "cell_type": "code",
      "metadata": {
        "id": "nUgx8l-TtnGr"
      },
      "source": [
        "#!echo {STREAMLIT_CODE} >> spacy_streamlit.py\n",
        "st_file = open(\"spacy_streamlit.py\", \"w\")\n",
        "n = st_file.write(STREAMLIT_CODE)\n",
        "st_file.close()"
      ],
      "execution_count": 10,
      "outputs": []
    },
    {
      "cell_type": "code",
      "metadata": {
        "colab": {
          "base_uri": "https://localhost:8080/"
        },
        "id": "8g2HY1bXtqUf",
        "outputId": "e4be14d6-f312-4512-a145-f8242193be76"
      },
      "source": [
        "!cat spacy_streamlit.py"
      ],
      "execution_count": 11,
      "outputs": [
        {
          "output_type": "stream",
          "text": [
            "\n",
            "import streamlit as st\n",
            "import spacy\n",
            "\n",
            "def extract_entities(text):\n",
            "    # Load English tokenizer, tagger, parser, NER and word vectors\n",
            "    nlp = spacy.load(\"en_core_web_sm\")\n",
            "\n",
            "\n",
            "    doc = nlp(text)\n",
            "\n",
            "    # Find named entities, phrases and concepts\n",
            "    entities = []\n",
            "    for entity in doc.ents:\n",
            "        entities.append((entity.text, entity.label_))\n",
            "    return entities\n",
            "\n",
            "user_input = st.text_input(\"Input text\", \"\")\n",
            "\n",
            "st.text(extract_entities(user_input))\n"
          ],
          "name": "stdout"
        }
      ]
    },
    {
      "cell_type": "markdown",
      "metadata": {
        "id": "xnuxS8ooxQJx"
      },
      "source": [
        "Use the output of this command as the link to your app."
      ]
    },
    {
      "cell_type": "code",
      "metadata": {
        "colab": {
          "base_uri": "https://localhost:8080/"
        },
        "id": "BlBdR8MvwUy6",
        "outputId": "5c82b3c3-a48a-42d0-9571-b8e09ba1da86"
      },
      "source": [
        "# If it says \"list index out of range\" just run it again\n",
        "get_ipython().system_raw('./ngrok http 8501 &')\n",
        "!curl -s http://localhost:4040/api/tunnels | python3 -c \\\n",
        "    \"import sys, json; print(json.load(sys.stdin)['tunnels'][0]['public_url'])\""
      ],
      "execution_count": 12,
      "outputs": [
        {
          "output_type": "stream",
          "text": [
            "https://bf3f4801f4a2.ngrok.io\n"
          ],
          "name": "stdout"
        }
      ]
    },
    {
      "cell_type": "code",
      "metadata": {
        "colab": {
          "base_uri": "https://localhost:8080/"
        },
        "id": "YjE4sVRTtrkm",
        "outputId": "edddf62e-db3c-4363-80dd-df1ffcc2ee39"
      },
      "source": [
        "!streamlit run spacy_streamlit.py"
      ],
      "execution_count": 13,
      "outputs": [
        {
          "output_type": "stream",
          "text": [
            "\u001b[0m\n",
            "\u001b[34m\u001b[1m  You can now view your Streamlit app in your browser.\u001b[0m\n",
            "\u001b[0m\n",
            "\u001b[34m  Network URL: \u001b[0m\u001b[1mhttp://172.28.0.2:8501\u001b[0m\n",
            "\u001b[34m  External URL: \u001b[0m\u001b[1mhttp://35.243.172.187:8501\u001b[0m\n",
            "\u001b[0m\n",
            "\u001b[34m  Stopping...\u001b[0m\n",
            "Traceback (most recent call last):\n",
            "  File \"/usr/local/bin/streamlit\", line 8, in <module>\n",
            "    sys.exit(main())\n",
            "  File \"/usr/local/lib/python3.6/dist-packages/click/core.py\", line 829, in __call__\n",
            "    return self.main(*args, **kwargs)\n",
            "  File \"/usr/local/lib/python3.6/dist-packages/click/core.py\", line 782, in main\n",
            "    rv = self.invoke(ctx)\n",
            "  File \"/usr/local/lib/python3.6/dist-packages/click/core.py\", line 1259, in invoke\n",
            "    return _process_result(sub_ctx.command.invoke(sub_ctx))\n",
            "  File \"/usr/local/lib/python3.6/dist-packages/click/core.py\", line 1066, in invoke\n",
            "    return ctx.invoke(self.callback, **ctx.params)\n",
            "  File \"/usr/local/lib/python3.6/dist-packages/click/core.py\", line 610, in invoke\n",
            "    return callback(*args, **kwargs)\n",
            "  File \"/usr/local/lib/python3.6/dist-packages/streamlit/cli.py\", line 233, in main_run\n",
            "    _main_run(target, args)\n",
            "  File \"/usr/local/lib/python3.6/dist-packages/streamlit/cli.py\", line 261, in _main_run\n",
            "    bootstrap.run(file, command_line, args)\n",
            "  File \"/usr/local/lib/python3.6/dist-packages/streamlit/bootstrap.py\", line 291, in run\n",
            "    ioloop.start()\n",
            "  File \"/usr/local/lib/python3.6/dist-packages/tornado/platform/asyncio.py\", line 132, in start\n",
            "    self.asyncio_loop.run_forever()\n",
            "  File \"/usr/lib/python3.6/asyncio/base_events.py\", line 438, in run_forever\n",
            "    self._run_once()\n",
            "  File \"/usr/lib/python3.6/asyncio/base_events.py\", line 1415, in _run_once\n",
            "    event_list = self._selector.select(timeout)\n",
            "  File \"/usr/lib/python3.6/selectors.py\", line 445, in select\n",
            "    fd_event_list = self._epoll.poll(timeout, max_ev)\n",
            "  File \"/usr/local/lib/python3.6/dist-packages/streamlit/bootstrap.py\", line 45, in signal_handler\n",
            "    Server.get_current().stop()\n",
            "  File \"/usr/local/lib/python3.6/dist-packages/streamlit/server/server.py\", line 530, in stop\n",
            "    click.secho(\"  Stopping...\", fg=\"blue\")\n",
            "  File \"/usr/local/lib/python3.6/dist-packages/click/termui.py\", line 548, in secho\n",
            "    return echo(message, file=file, nl=nl, err=err, color=color)\n",
            "  File \"/usr/local/lib/python3.6/dist-packages/click/utils.py\", line 272, in echo\n",
            "    file.write(message)\n",
            "  File \"/usr/local/lib/python3.6/dist-packages/streamlit/bootstrap.py\", line 45, in signal_handler\n",
            "    Server.get_current().stop()\n",
            "  File \"/usr/local/lib/python3.6/dist-packages/streamlit/server/server.py\", line 530, in stop\n",
            "    click.secho(\"  Stopping...\", fg=\"blue\")\n",
            "  File \"/usr/local/lib/python3.6/dist-packages/click/termui.py\", line 548, in secho\n",
            "    return echo(message, file=file, nl=nl, err=err, color=color)\n",
            "  File \"/usr/local/lib/python3.6/dist-packages/click/utils.py\", line 272, in echo\n",
            "    file.write(message)\n",
            "RuntimeError: reentrant call inside <_io.BufferedWriter name='<stdout>'>\n"
          ],
          "name": "stdout"
        }
      ]
    },
    {
      "cell_type": "markdown",
      "metadata": {
        "id": "9xgAqvwmxqce"
      },
      "source": [
        "Copy this \"Apple is looking at buying U.K. startup for $1 billion\" and paste it to your streamlit app"
      ]
    },
    {
      "cell_type": "markdown",
      "metadata": {
        "id": "fsLMLeF9x8rQ"
      },
      "source": [
        "### Summary"
      ]
    },
    {
      "cell_type": "markdown",
      "metadata": {
        "id": "G9NGaGsUx_4J"
      },
      "source": [
        "Learnings:\n",
        "1. Deploy model through FastAPI and Streamlit.\n",
        "2. Use ngrok for creating Public domains.\n",
        "3. Use the google colab to create temporary backend server.\n",
        "\n",
        "Applications:\n",
        "1. Sharing your models within the team.\n",
        "2. Testing your models.\n",
        "3. For creating data science apps in development and production stage.\n",
        "4. For your Data Science Portfolio.\n",
        "\n",
        "Links:\n",
        "1. [FastAPI](https://fastapi.tiangolo.com/)\n",
        "2. [Streamlit](https://www.streamlit.io/)\n",
        "3. [Spacy](https://spacy.io/)\n",
        "4. [Ngrok](https://ngrok.com/)\n",
        "\n",
        "References:\n",
        "1. [How To Build and Deploy a Machine Learning Model with FastAPI](https://towardsdatascience.com/how-to-build-and-deploy-a-machine-learning-model-with-fastapi-64c505213857)\n",
        "2. [Deploying and Hosting a Machine Learning Model with FastAPI and Heroku](https://testdriven.io/blog/fastapi-machine-learning/)"
      ]
    }
  ]
}